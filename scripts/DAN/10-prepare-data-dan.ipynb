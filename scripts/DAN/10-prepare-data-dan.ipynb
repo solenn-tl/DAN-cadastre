{
 "cells": [
  {
   "cell_type": "markdown",
   "metadata": {},
   "source": [
    "## Prepare dataset for DAN training"
   ]
  },
  {
   "cell_type": "markdown",
   "metadata": {},
   "source": [
    "### Dataset entities\n",
    "Extract list of entities.</br>\n",
    "In : SQLite database</br>\n",
    "Out : entries.yaml"
   ]
  },
  {
   "cell_type": "code",
   "execution_count": 9,
   "metadata": {},
   "outputs": [],
   "source": [
    "!teklia-dan dataset entities /home/STual/DAN-cadastre/data/epita-ign-registre-napoleonien-20240308-170022.sqlite \\\n",
    "    --output-file /home/STual/DAN-cadastre/dataset/"
   ]
  },
  {
   "cell_type": "markdown",
   "metadata": {},
   "source": [
    "### Dataset tokens\n",
    "Generate a YAML file containing entities and their tokens to train et DAN model.</br>\n",
    "In : entries.yaml</br>\n",
    "Out : tokens.yaml"
   ]
  },
  {
   "cell_type": "code",
   "execution_count": 10,
   "metadata": {},
   "outputs": [],
   "source": [
    "!teklia-dan dataset tokens /home/STual/DAN-cadastre/dataset/entities.yml \\\n",
    "    --output-file /home/STual/DAN-cadastre/dataset/tokens.yml \\\n",
    "    --end-tokens"
   ]
  },
  {
   "cell_type": "markdown",
   "metadata": {},
   "source": [
    "### Dataset extraction\n",
    "Extract annotations from the SQLITE database to JSON.</br>\n",
    "In : SQLite database</br>\n",
    "Out : JSON text annotation dataset\n",
    "\n",
    "*element-type : tab_line ou page* ???"
   ]
  },
  {
   "cell_type": "code",
   "execution_count": 12,
   "metadata": {},
   "outputs": [
    {
     "name": "stdout",
     "output_type": "stream",
     "text": [
      "Extracting data from page (17e23200-7c9f-4fa4-b276-6d6dffda99f0) for split (trai2024-07-19 07:28:18,704 WARNING/dan.datasets.extract.arkindex: Skipping 17e23200-7c9f-4fa4-b276-6d6dffda99f0: No transcriptions found on element (17e23200-7c9f-4fa4-b276-6d6dffda99f0) with this config. Skipping.\n",
      "Extracting data from page (49ee1302-ad56-4b38-919e-b2e2a38b41d2) for split (trai2024-07-19 07:28:18,793 WARNING/dan.datasets.extract.arkindex: Skipping 49ee1302-ad56-4b38-919e-b2e2a38b41d2: No transcriptions found on element (49ee1302-ad56-4b38-919e-b2e2a38b41d2) with this config. Skipping.\n",
      "Extracting data from page (c6cee0c1-eef6-4b9b-b5c4-5a823518066b) for split (trai2024-07-19 07:28:18,794 WARNING/dan.datasets.extract.arkindex: Skipping c6cee0c1-eef6-4b9b-b5c4-5a823518066b: No transcriptions found on element (c6cee0c1-eef6-4b9b-b5c4-5a823518066b) with this config. Skipping.\n",
      "Extracting data from page (d085f47a-e59c-4177-8af4-debb93831f13) for split (trai2024-07-19 07:28:18,795 WARNING/dan.datasets.extract.arkindex: Skipping d085f47a-e59c-4177-8af4-debb93831f13: No transcriptions found on element (d085f47a-e59c-4177-8af4-debb93831f13) with this config. Skipping.\n",
      "Extracting data from page (114c87cf-f591-415f-8687-1d518399572a) for split (trai2024-07-19 07:28:18,826 WARNING/dan.datasets.extract.arkindex: Skipping 114c87cf-f591-415f-8687-1d518399572a: No transcriptions found on element (114c87cf-f591-415f-8687-1d518399572a) with this config. Skipping.\n",
      "Extracting data from page (ad95d78b-1f95-4e3f-b6c9-dfb2784eccc1) for split (trai2024-07-19 07:28:18,854 WARNING/dan.datasets.extract.arkindex: Skipping ad95d78b-1f95-4e3f-b6c9-dfb2784eccc1: No transcriptions found on element (ad95d78b-1f95-4e3f-b6c9-dfb2784eccc1) with this config. Skipping.\n",
      "Extracting data from page (2c9d1f2b-00b8-4330-9e8c-baefe8d5e1be) for split (trai2024-07-19 07:28:18,868 WARNING/dan.datasets.extract.arkindex: Skipping 2c9d1f2b-00b8-4330-9e8c-baefe8d5e1be: No transcriptions found on element (2c9d1f2b-00b8-4330-9e8c-baefe8d5e1be) with this config. Skipping.\n",
      "Extracting data from page (c4598607-1393-4376-a103-c77408c7cb8b) for split (trai2024-07-19 07:28:18,885 WARNING/dan.datasets.extract.arkindex: Skipping c4598607-1393-4376-a103-c77408c7cb8b: No transcriptions found on element (c4598607-1393-4376-a103-c77408c7cb8b) with this config. Skipping.\n",
      "Extracting data from page (c29fcfaa-ed19-40e3-8324-8843ae89b2cd) for split (train): : 112it [00:00, 347.80it/s]2024-07-19 07:28:18,894 WARNING/dan.datasets.extract.arkindex: Skipping c29fcfaa-ed19-40e3-8324-8843ae89b2cd: No transcriptions found on element (c29fcfaa-ed19-40e3-8324-8843ae89b2cd) with this config. Skipping.\n",
      "Extracting data from page (925532f8-1b5a-4190-8a07-21e8efa72a9d) for split (train): : 114it [00:00, 347.80it/s]2024-07-19 07:28:18,897 WARNING/dan.datasets.extract.arkindex: Skipping 925532f8-1b5a-4190-8a07-21e8efa72a9d: No transcriptions found on element (925532f8-1b5a-4190-8a07-21e8efa72a9d) with this config. Skipping.\n",
      "Extracting data from page (41476ffd-f527-471b-9b34-f8efce4c2dc8) for split (train): : 121it [00:00, 347.80it/s]2024-07-19 07:28:18,915 WARNING/dan.datasets.extract.arkindex: Skipping 41476ffd-f527-471b-9b34-f8efce4c2dc8: No transcriptions found on element (41476ffd-f527-471b-9b34-f8efce4c2dc8) with this config. Skipping.\n",
      "Extracting data from page (799dbad8-3a38-43a5-98ea-af5e3f2f5e19) for split (train): : 122it [00:00, 347.80it/s]2024-07-19 07:28:18,915 WARNING/dan.datasets.extract.arkindex: Skipping 799dbad8-3a38-43a5-98ea-af5e3f2f5e19: No transcriptions found on element (799dbad8-3a38-43a5-98ea-af5e3f2f5e19) with this config. Skipping.\n",
      "Extracting data from page (1a6d7d2e-2f65-4224-adb3-fc5ec7327bf7) for split (train): : 126it [00:00, 347.80it/s]2024-07-19 07:28:18,924 WARNING/dan.datasets.extract.arkindex: Skipping 1a6d7d2e-2f65-4224-adb3-fc5ec7327bf7: No transcriptions found on element (1a6d7d2e-2f65-4224-adb3-fc5ec7327bf7) with this config. Skipping.\n",
      "Extracting data from page (6903e4c0-f037-4105-86a2-85ba867a8895) for split (trai                               \n",
      "Extracting data from page (f11fae21-c23b-46d5-9324-26c52cc2f6e8) for split (test2024-07-19 07:28:18,998 WARNING/dan.datasets.extract.arkindex: Skipping f11fae21-c23b-46d5-9324-26c52cc2f6e8: No transcriptions found on element (f11fae21-c23b-46d5-9324-26c52cc2f6e8) with this config. Skipping.\n",
      "Extracting data from page (f55a5fa8-9fbe-4f1c-bb7b-959333570633) for split (test2024-07-19 07:28:18,998 WARNING/dan.datasets.extract.arkindex: Skipping f55a5fa8-9fbe-4f1c-bb7b-959333570633: No transcriptions found on element (f55a5fa8-9fbe-4f1c-bb7b-959333570633) with this config. Skipping.\n",
      "Extracting data from page (0864252b-1fc6-4fa4-b71f-0d7813d1f8e0) for split (test2024-07-19 07:28:19,026 WARNING/dan.datasets.extract.arkindex: Skipping 0864252b-1fc6-4fa4-b71f-0d7813d1f8e0: No transcriptions found on element (0864252b-1fc6-4fa4-b71f-0d7813d1f8e0) with this config. Skipping.\n",
      "Extracting data from page (5c9e20bc-339e-41cb-b495-86b5be9342e3) for split (test2024-07-19 07:28:19,029 WARNING/dan.datasets.extract.arkindex: Skipping 5c9e20bc-339e-41cb-b495-86b5be9342e3: No transcriptions found on element (5c9e20bc-339e-41cb-b495-86b5be9342e3) with this config. Skipping.\n",
      "Extracting data from page (43534ab4-6452-4c18-8ffe-d135cfcfc99f) for split (test\n",
      "Extracting data from page (aee0a32e-378b-4103-aee8-319f918cb85e) for split (val)2024-07-19 07:28:19,070 WARNING/dan.datasets.extract.arkindex: Skipping aee0a32e-378b-4103-aee8-319f918cb85e: No transcriptions found on element (aee0a32e-378b-4103-aee8-319f918cb85e) with this config. Skipping.\n",
      "Extracting data from page (5f14d70c-f90d-4c79-8390-bd5b7b5ab653) for split (val)2024-07-19 07:28:19,082 WARNING/dan.datasets.extract.arkindex: Skipping 5f14d70c-f90d-4c79-8390-bd5b7b5ab653: No transcriptions found on element (5f14d70c-f90d-4c79-8390-bd5b7b5ab653) with this config. Skipping.\n",
      "Extracting data from page (14d66385-bdaf-4b45-b592-de79bff93ba8) for split (val)2024-07-19 07:28:19,101 WARNING/dan.datasets.extract.arkindex: Skipping 14d66385-bdaf-4b45-b592-de79bff93ba8: No transcriptions found on element (14d66385-bdaf-4b45-b592-de79bff93ba8) with this config. Skipping.\n",
      "Extracting data from page (b950a73a-3b14-4d2a-a782-bd335ed68a79) for split (val)2024-07-19 07:28:19,105 WARNING/dan.datasets.extract.arkindex: Skipping b950a73a-3b14-4d2a-a782-bd335ed68a79: No transcriptions found on element (b950a73a-3b14-4d2a-a782-bd335ed68a79) with this config. Skipping.\n",
      "Extracting data from page (b639929c-28e0-4533-b374-36173c224f6b) for split (val)\n",
      "2024-07-19 07:28:19,108 INFO/dan.datasets.extract.arkindex: Preparing language resources\n",
      "2024-07-19 07:28:19,108 INFO/dan.datasets.extract.utils: Training a sentencepiece model for subword tokenization\n"
     ]
    }
   ],
   "source": [
    "!teklia-dan dataset extract /home/STual/DAN-cadastre/data/epita-ign-registre-napoleonien-20240308-170022.sqlite \\\n",
    "    --dataset-id 032ae384-77dd-4ec8-868a-4348dd74897f \\\n",
    "    --element-type page \\\n",
    "    --output /home/STual/DAN-cadastre/dataset/page_dataset \\\n",
    "    --tokens /home/STual/DAN-cadastre/dataset/tokens.yml"
   ]
  },
  {
   "cell_type": "markdown",
   "metadata": {},
   "source": [
    "### Download IIIF images"
   ]
  },
  {
   "cell_type": "code",
   "execution_count": 13,
   "metadata": {},
   "outputs": [
    {
     "name": "stdout",
     "output_type": "stream",
     "text": [
      "Downloading images: 100%|█████████████████████| 126/126 [01:27<00:00,  1.44it/s]\n"
     ]
    }
   ],
   "source": [
    "!teklia-dan dataset download \\\n",
    "    --output /home/STual/DAN-cadastre/dataset/page_dataset"
   ]
  },
  {
   "cell_type": "markdown",
   "metadata": {},
   "source": [
    "## Statistics for HTR-NER"
   ]
  },
  {
   "cell_type": "code",
   "execution_count": 2,
   "metadata": {},
   "outputs": [
    {
     "name": "stdout",
     "output_type": "stream",
     "text": [
      "2024-07-19 12:10:02,504 INFO/dan.datasets.analyze.statistics: Images statistics\n",
      "\n",
      "| Metric | Width  | Height |\n",
      "|:-------|:------:|:------:|\n",
      "| Count  |   20   |   20   |\n",
      "| Min    |  2000  |  2000  |\n",
      "| Max    |  2000  |  2000  |\n",
      "| Mean   | 2000.0 | 2000.0 |\n",
      "| Median | 2000.0 | 2000.0 |\n",
      "\n",
      "2024-07-19 12:10:02,507 INFO/dan.datasets.analyze.statistics: Labels statistics\n",
      "\n",
      "| Metric |  Chars  | Words | Lines |\n",
      "|:-------|:-------:|:-----:|:-----:|\n",
      "| Min    |    20   |   3   |   1   |\n",
      "| Max    |   6786  |  959  |   1   |\n",
      "| Mean   | 2088.75 | 293.1 |  1.0  |\n",
      "| Median |  1384.5 | 193.0 |  1.0  |\n",
      "| Total  |  41775  |  5862 |   20  |\n",
      "\n",
      "2024-07-19 12:10:02,507 INFO/dan.datasets.analyze.statistics: Characters statistics\n",
      "\n",
      "| Character | Occurrence |\n",
      "|:----------|-----------:|\n",
      "| 0         |       9097 |\n",
      "|           |       6603 |\n",
      "| Ⓐ         |       5862 |\n",
      "| Ⓑ         |       5862 |\n",
      "| 1         |       2805 |\n",
      "| 2         |       1941 |\n",
      "| 3         |       1678 |\n",
      "| 4         |       1590 |\n",
      "| 5         |       1479 |\n",
      "| 6         |       1326 |\n",
      "| 7         |       1301 |\n",
      "| 9         |       1122 |\n",
      "| 8         |       1109 |\n",
      "\n",
      "2024-07-19 12:10:02,508 INFO/dan.datasets.analyze.statistics: NER tokens statistics\n",
      "\n",
      "| Metric | parcelle | nature |\n",
      "|:-------|:--------:|:------:|\n",
      "| Min    |    3     |   0    |\n",
      "| Max    |   959    |   0    |\n",
      "| Mean   |  293.1   |  0.0   |\n",
      "| Median |  193.0   |  0.0   |\n",
      "| Total  |   5862   |   0    |\n",
      "\n",
      "2024-07-19 12:10:02,509 INFO/dan.datasets.analyze.statistics: Images statistics\n",
      "\n",
      "| Metric | Width  | Height |\n",
      "|:-------|:------:|:------:|\n",
      "| Count  |   10   |   10   |\n",
      "| Min    |  2000  |  2000  |\n",
      "| Max    |  2000  |  2000  |\n",
      "| Mean   | 2000.0 | 2000.0 |\n",
      "| Median | 2000.0 | 2000.0 |\n",
      "\n",
      "2024-07-19 12:10:02,510 INFO/dan.datasets.analyze.statistics: Labels statistics\n",
      "\n",
      "| Metric | Chars  | Words | Lines |\n",
      "|:-------|:------:|:-----:|:-----:|\n",
      "| Min    |   41   |   5   |   1   |\n",
      "| Max    |  4974  |  701  |   1   |\n",
      "| Mean   | 1600.8 | 223.7 |  1.0  |\n",
      "| Median | 1468.5 | 204.5 |  1.0  |\n",
      "| Total  | 16008  |  2237 |   10  |\n",
      "\n",
      "2024-07-19 12:10:02,511 INFO/dan.datasets.analyze.statistics: Characters statistics\n",
      "\n",
      "| Character | Occurrence |\n",
      "|:----------|-----------:|\n",
      "| 0         |       3430 |\n",
      "|           |       2586 |\n",
      "| Ⓐ         |       2237 |\n",
      "| Ⓑ         |       2237 |\n",
      "| 1         |       1117 |\n",
      "| 2         |        931 |\n",
      "| 3         |        615 |\n",
      "| 4         |        530 |\n",
      "| 5         |        516 |\n",
      "| 6         |        470 |\n",
      "| 7         |        457 |\n",
      "| 8         |        457 |\n",
      "| 9         |        425 |\n",
      "\n",
      "2024-07-19 12:10:02,512 INFO/dan.datasets.analyze.statistics: NER tokens statistics\n",
      "\n",
      "| Metric | parcelle | nature |\n",
      "|:-------|:--------:|:------:|\n",
      "| Min    |    5     |   0    |\n",
      "| Max    |   701    |   0    |\n",
      "| Mean   |  223.7   |  0.0   |\n",
      "| Median |  204.5   |  0.0   |\n",
      "| Total  |   2237   |   0    |\n",
      "\n",
      "2024-07-19 12:10:02,514 INFO/dan.datasets.analyze.statistics: Images statistics\n",
      "\n",
      "| Metric | Width  | Height |\n",
      "|:-------|:------:|:------:|\n",
      "| Count  |   70   |   70   |\n",
      "| Min    |  2000  |  2000  |\n",
      "| Max    |  2000  |  2000  |\n",
      "| Mean   | 2000.0 | 2000.0 |\n",
      "| Median | 2000.0 | 2000.0 |\n",
      "\n",
      "2024-07-19 12:10:02,522 INFO/dan.datasets.analyze.statistics: Labels statistics\n",
      "\n",
      "| Metric |  Chars  | Words  | Lines |\n",
      "|:-------|:-------:|:------:|:-----:|\n",
      "| Min    |    25   |   3    |   1   |\n",
      "| Max    |   7349  |  1044  |   1   |\n",
      "| Mean   | 2345.87 | 329.63 |  1.0  |\n",
      "| Median |  1935.0 | 270.0  |  1.0  |\n",
      "| Total  |  164211 | 23074  |   70  |\n",
      "\n",
      "2024-07-19 12:10:02,523 INFO/dan.datasets.analyze.statistics: Characters statistics\n",
      "\n",
      "| Character | Occurrence |\n",
      "|:----------|-----------:|\n",
      "| 0         |      35162 |\n",
      "|           |      25767 |\n",
      "| Ⓐ         |      23074 |\n",
      "| Ⓑ         |      23074 |\n",
      "| 1         |      11506 |\n",
      "| 2         |       7737 |\n",
      "| 3         |       6544 |\n",
      "| 4         |       6310 |\n",
      "| 5         |       5749 |\n",
      "| 6         |       5317 |\n",
      "| 7         |       4913 |\n",
      "| 8         |       4643 |\n",
      "| 9         |       4415 |\n",
      "\n",
      "2024-07-19 12:10:02,524 INFO/dan.datasets.analyze.statistics: NER tokens statistics\n",
      "\n",
      "| Metric | parcelle | nature |\n",
      "|:-------|:--------:|:------:|\n",
      "| Min    |    3     |   0    |\n",
      "| Max    |   1044   |   0    |\n",
      "| Mean   |  329.63  |  0.0   |\n",
      "| Median |  270.0   |  0.0   |\n",
      "| Total  |  23074   |   0    |\n",
      "\n"
     ]
    }
   ],
   "source": [
    "!teklia-dan dataset analyze \\\n",
    "    --labels /home/STual/DAN-cadastre/dataset/page_dataset/labels.json \\\n",
    "    --tokens /home/STual/DAN-cadastre/dataset/tokens.yml \\\n",
    "    --output-file /home/STual/DAN-cadastre/dataset/statistics.md"
   ]
  }
 ],
 "metadata": {
  "kernelspec": {
   "display_name": "Python 3 (ipykernel)",
   "language": "python",
   "name": "python3"
  },
  "language_info": {
   "codemirror_mode": {
    "name": "ipython",
    "version": 3
   },
   "file_extension": ".py",
   "mimetype": "text/x-python",
   "name": "python",
   "nbconvert_exporter": "python",
   "pygments_lexer": "ipython3",
   "version": "3.10.12"
  }
 },
 "nbformat": 4,
 "nbformat_minor": 2
}
