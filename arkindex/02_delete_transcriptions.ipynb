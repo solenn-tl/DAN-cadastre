{
  "nbformat": 4,
  "nbformat_minor": 0,
  "metadata": {
    "colab": {
      "provenance": [],
      "authorship_tag": "ABX9TyODCFMbKdSqd90tCPxwcd7g",
      "include_colab_link": true
    },
    "kernelspec": {
      "name": "python3",
      "display_name": "Python 3"
    },
    "language_info": {
      "name": "python"
    }
  },
  "cells": [
    {
      "cell_type": "markdown",
      "metadata": {
        "id": "view-in-github",
        "colab_type": "text"
      },
      "source": [
        "<a href=\"https://colab.research.google.com/github/solenn-tl/DAN-cadastre/blob/master/arkindex/02_manage_transcriptions.ipynb\" target=\"_parent\"><img src=\"https://colab.research.google.com/assets/colab-badge.svg\" alt=\"Open In Colab\"/></a>"
      ]
    },
    {
      "cell_type": "markdown",
      "source": [
        "# Gestion des elements transcripts\n",
        "\n",
        "* Ce notebook permet d'avoir une vue d'ensemble sur les lignes de tableaux et pages transcrites dans Callico et exportées dans Arkindex.\n",
        "* Il permet, si besoin, de supprimer des transcriptions d'ARkindex afin de pouvoir les ré-importer depuis Callico."
      ],
      "metadata": {
        "id": "OsDvmhVgjTJq"
      }
    },
    {
      "cell_type": "markdown",
      "source": [
        "## Pré-requis et documentation\n",
        "\n",
        "Documentation:\n",
        "- [Doc de l'API Arkindex](https://doc.arkindex.org/overview/api/)\n",
        "- [Doc du client Python de bas-niveau](https://pypi.org/project/arkindex-client/)\n",
        "- [Doc de Arkindex CLI (haut niveau)](https://cli.arkindex.org/)\n",
        "\n",
        "A installer :"
      ],
      "metadata": {
        "id": "uZDd4_I7jp4E"
      }
    },
    {
      "cell_type": "code",
      "execution_count": 1,
      "metadata": {
        "colab": {
          "base_uri": "https://localhost:8080/"
        },
        "id": "4wYrKBNojN0K",
        "outputId": "76d646f6-8771-42ff-e5c5-a69f55125a4d"
      },
      "outputs": [
        {
          "output_type": "stream",
          "name": "stdout",
          "text": [
            "Requirement already satisfied: arkindex-cli in /usr/local/lib/python3.10/dist-packages (0.4.5)\n",
            "Requirement already satisfied: arkindex-export==0.1.12 in /usr/local/lib/python3.10/dist-packages (from arkindex-cli) (0.1.12)\n",
            "Requirement already satisfied: minio==7.2.7 in /usr/local/lib/python3.10/dist-packages (from arkindex-cli) (7.2.7)\n",
            "Requirement already satisfied: python-dateutil==2.9.0.post0 in /usr/local/lib/python3.10/dist-packages (from arkindex-cli) (2.9.0.post0)\n",
            "Requirement already satisfied: python-docx==1.1.2 in /usr/local/lib/python3.10/dist-packages (from arkindex-cli) (1.1.2)\n",
            "Requirement already satisfied: python-gnupg==0.5.2 in /usr/local/lib/python3.10/dist-packages (from arkindex-cli) (0.5.2)\n",
            "Requirement already satisfied: PyYAML==6.0.1 in /usr/local/lib/python3.10/dist-packages (from arkindex-cli) (6.0.1)\n",
            "Requirement already satisfied: rich==13.7.1 in /usr/local/lib/python3.10/dist-packages (from arkindex-cli) (13.7.1)\n",
            "Requirement already satisfied: teklia-toolbox==0.1.5 in /usr/local/lib/python3.10/dist-packages (from arkindex-cli) (0.1.5)\n",
            "Requirement already satisfied: zstandard==0.22.0 in /usr/local/lib/python3.10/dist-packages (from arkindex-cli) (0.22.0)\n",
            "Requirement already satisfied: peewee==3.17.0 in /usr/local/lib/python3.10/dist-packages (from arkindex-export==0.1.12->arkindex-cli) (3.17.0)\n",
            "Requirement already satisfied: certifi in /usr/local/lib/python3.10/dist-packages (from minio==7.2.7->arkindex-cli) (2024.8.30)\n",
            "Requirement already satisfied: urllib3 in /usr/local/lib/python3.10/dist-packages (from minio==7.2.7->arkindex-cli) (2.2.3)\n",
            "Requirement already satisfied: argon2-cffi in /usr/local/lib/python3.10/dist-packages (from minio==7.2.7->arkindex-cli) (23.1.0)\n",
            "Requirement already satisfied: pycryptodome in /usr/local/lib/python3.10/dist-packages (from minio==7.2.7->arkindex-cli) (3.21.0)\n",
            "Requirement already satisfied: typing-extensions in /usr/local/lib/python3.10/dist-packages (from minio==7.2.7->arkindex-cli) (4.12.2)\n",
            "Requirement already satisfied: six>=1.5 in /usr/local/lib/python3.10/dist-packages (from python-dateutil==2.9.0.post0->arkindex-cli) (1.16.0)\n",
            "Requirement already satisfied: lxml>=3.1.0 in /usr/local/lib/python3.10/dist-packages (from python-docx==1.1.2->arkindex-cli) (5.2.1)\n",
            "Requirement already satisfied: markdown-it-py>=2.2.0 in /usr/local/lib/python3.10/dist-packages (from rich==13.7.1->arkindex-cli) (3.0.0)\n",
            "Requirement already satisfied: pygments<3.0.0,>=2.13.0 in /usr/local/lib/python3.10/dist-packages (from rich==13.7.1->arkindex-cli) (2.18.0)\n",
            "Requirement already satisfied: arkindex-client==1.0.16 in /usr/local/lib/python3.10/dist-packages (from teklia-toolbox==0.1.5->arkindex-cli) (1.0.16)\n",
            "Requirement already satisfied: apistar==0.7.2 in /usr/local/lib/python3.10/dist-packages (from arkindex-client==1.0.16->teklia-toolbox==0.1.5->arkindex-cli) (0.7.2)\n",
            "Requirement already satisfied: requests~=2.28 in /usr/local/lib/python3.10/dist-packages (from arkindex-client==1.0.16->teklia-toolbox==0.1.5->arkindex-cli) (2.32.3)\n",
            "Requirement already satisfied: tenacity==8.2.3 in /usr/local/lib/python3.10/dist-packages (from arkindex-client==1.0.16->teklia-toolbox==0.1.5->arkindex-cli) (8.2.3)\n",
            "Requirement already satisfied: typesystem==0.2.5 in /usr/local/lib/python3.10/dist-packages (from arkindex-client==1.0.16->teklia-toolbox==0.1.5->arkindex-cli) (0.2.5)\n",
            "Requirement already satisfied: click in /usr/local/lib/python3.10/dist-packages (from apistar==0.7.2->arkindex-client==1.0.16->teklia-toolbox==0.1.5->arkindex-cli) (8.1.7)\n",
            "Requirement already satisfied: jinja2 in /usr/local/lib/python3.10/dist-packages (from apistar==0.7.2->arkindex-client==1.0.16->teklia-toolbox==0.1.5->arkindex-cli) (3.1.4)\n",
            "Requirement already satisfied: mdurl~=0.1 in /usr/local/lib/python3.10/dist-packages (from markdown-it-py>=2.2.0->rich==13.7.1->arkindex-cli) (0.1.2)\n",
            "Requirement already satisfied: argon2-cffi-bindings in /usr/local/lib/python3.10/dist-packages (from argon2-cffi->minio==7.2.7->arkindex-cli) (21.2.0)\n",
            "Requirement already satisfied: charset-normalizer<4,>=2 in /usr/local/lib/python3.10/dist-packages (from requests~=2.28->arkindex-client==1.0.16->teklia-toolbox==0.1.5->arkindex-cli) (3.4.0)\n",
            "Requirement already satisfied: idna<4,>=2.5 in /usr/local/lib/python3.10/dist-packages (from requests~=2.28->arkindex-client==1.0.16->teklia-toolbox==0.1.5->arkindex-cli) (3.10)\n",
            "Requirement already satisfied: cffi>=1.0.1 in /usr/local/lib/python3.10/dist-packages (from argon2-cffi-bindings->argon2-cffi->minio==7.2.7->arkindex-cli) (1.17.1)\n",
            "Requirement already satisfied: pycparser in /usr/local/lib/python3.10/dist-packages (from cffi>=1.0.1->argon2-cffi-bindings->argon2-cffi->minio==7.2.7->arkindex-cli) (2.22)\n",
            "Requirement already satisfied: MarkupSafe>=2.0 in /usr/local/lib/python3.10/dist-packages (from jinja2->apistar==0.7.2->arkindex-client==1.0.16->teklia-toolbox==0.1.5->arkindex-cli) (3.0.2)\n"
          ]
        }
      ],
      "source": [
        "!pip install arkindex-cli"
      ]
    },
    {
      "cell_type": "code",
      "source": [
        "from google.colab import drive\n",
        "drive.mount('/content/drive')"
      ],
      "metadata": {
        "colab": {
          "base_uri": "https://localhost:8080/"
        },
        "id": "4WIZ62v-jt71",
        "outputId": "1c269786-abcd-4669-a3cc-eea2d47e513e"
      },
      "execution_count": 2,
      "outputs": [
        {
          "output_type": "stream",
          "name": "stdout",
          "text": [
            "Mounted at /content/drive\n"
          ]
        }
      ]
    },
    {
      "cell_type": "markdown",
      "source": [
        "## Login"
      ],
      "metadata": {
        "id": "HrXebCQ-jr7b"
      }
    },
    {
      "cell_type": "code",
      "source": [
        "!arkindex login --host arkindex.teklia.com --email solenn.tual@ign.fr\n",
        "#IGN_677_@_gh56K"
      ],
      "metadata": {
        "colab": {
          "base_uri": "https://localhost:8080/"
        },
        "id": "AqOLew-Fjw5c",
        "outputId": "dedf046c-b2e7-467e-8908-0d0744f15c8c"
      },
      "execution_count": null,
      "outputs": [
        {
          "output_type": "stream",
          "name": "stdout",
          "text": [
            "Loading API client… Done!\n",
            "\u001b[1mPassword: \u001b[0m\n",
            "\u001b[1;92mAuthentication successful\u001b[0m\n",
            "\u001b[1mSlug to save profile as \u001b[0m\u001b[1m(\u001b[0mdefault\u001b[1m)\u001b[0m: prod\n",
            "\u001b[1mSet this profile as the default? \u001b[0m\u001b[1m(\u001b[0myes\u001b[1m)\u001b[0m: yes\n"
          ]
        }
      ]
    },
    {
      "cell_type": "markdown",
      "source": [
        "## Connexion au corpus"
      ],
      "metadata": {
        "id": "OyU30Kcij1fO"
      }
    },
    {
      "cell_type": "code",
      "source": [
        "import pandas as pd\n",
        "import os\n",
        "import plotly.express as px\n",
        "import json\n",
        "from arkindex import ArkindexClient"
      ],
      "metadata": {
        "id": "BMRxNhc_j1MN"
      },
      "execution_count": 3,
      "outputs": []
    },
    {
      "cell_type": "code",
      "source": [
        "cli = ArkindexClient('cdf9b285c9da6e82cddbf18aa070dc471a13facb')"
      ],
      "metadata": {
        "id": "tISp3wPrj5N8"
      },
      "execution_count": 4,
      "outputs": []
    },
    {
      "cell_type": "code",
      "source": [
        "#Retrieve corpus (project)\n",
        "corpus = cli.request('ListCorpus')\n",
        "for c in corpus:\n",
        "    #print(c)\n",
        "    if c[\"name\"] == 'EPITA-IGN | Registre Napoléonien':\n",
        "      corpus_id = c[\"id\"]\n",
        "      print(c)\n",
        "      print(json.dumps(c, indent=2))"
      ],
      "metadata": {
        "colab": {
          "base_uri": "https://localhost:8080/"
        },
        "id": "5rOCj3Jrj62M",
        "outputId": "f4ec3f54-5c2b-4d78-fe50-5c4eb9f12d27"
      },
      "execution_count": 6,
      "outputs": [
        {
          "output_type": "stream",
          "name": "stdout",
          "text": [
            "{'id': '59285827-bba3-42d4-99c7-e2436fe19f94', 'name': 'EPITA-IGN | Registre Napoléonien', 'description': 'Projet de Solenn', 'public': False, 'rights': ['read', 'write', 'admin'], 'types': [{'id': 'a2718e04-c140-47c2-886d-42cf5757bf04', 'slug': 'page', 'display_name': 'Page', 'folder': False, 'color': 'b828b3'}, {'id': 'fede5d95-e562-4f33-97e2-1fe18d20e2f1', 'slug': 'text_line', 'display_name': 'Text line', 'folder': False, 'color': 'f4f740'}, {'id': '8e98a93d-992c-4a32-a6da-2bd17abcb3a4', 'slug': 'text_zone', 'display_name': 'Text zone', 'folder': False, 'color': '0ac4be'}, {'id': '151d522f-09cf-4a6e-9874-d39f31b4512f', 'slug': 'double_page', 'display_name': 'Double page', 'folder': False, 'color': 'b8284c'}, {'id': '064c8649-08ce-4c59-b60b-ffa8a7802376', 'slug': 'folder', 'display_name': 'Folder', 'folder': True, 'color': 'f5fff5'}, {'id': '3da0de23-ea2d-48b7-9f6f-4b9120b7c911', 'slug': 'tab_header', 'display_name': 'Table Header', 'folder': False, 'color': '233990'}, {'id': 'e3631753-20ad-499a-95ed-9d5ffe35a105', 'slug': 'paragraph', 'display_name': 'Paragraph', 'folder': False, 'color': 'ecbc0e'}, {'id': '7dc00c02-f179-4c33-b201-6403c4c91ac3', 'slug': 'tab_line', 'display_name': 'Table Line', 'folder': False, 'color': '11c517'}, {'id': '676f15a2-c550-495c-ac1c-dfcf45720d90', 'slug': 'page_marolles', 'display_name': 'Page Marolles', 'folder': False, 'color': 'a028b8'}, {'id': '6c127d43-a3c5-4b36-810a-c5875f642f20', 'slug': 'tab_header_marolles', 'display_name': 'Table Header Marolles', 'folder': False, 'color': '3228b8'}, {'id': '97a2117b-f7e4-40f6-9d61-ecb3aebf2f2e', 'slug': 'tab_line_marolles', 'display_name': 'Table Line Marolles', 'folder': False, 'color': '28b62c'}, {'id': 'ea647bff-e18c-4b17-b05f-c276d2294b05', 'slug': 'ets_couv_modele', 'display_name': 'ETS Modèle', 'folder': False, 'color': 'ec5f6d'}, {'id': 'a9e51463-c155-479a-8f41-02fd662316c7', 'slug': 'ets_couv_id', 'display_name': 'ETS Identifiant', 'folder': False, 'color': '28b62c'}, {'id': 'b68cb405-54b0-42df-9333-2f5aa84ffcaa', 'slug': 'ets_couv_name', 'display_name': 'ETS Nom', 'folder': False, 'color': '4497bb'}, {'id': 'a2eb78b8-336c-4fe9-bf95-d7f716833aee', 'slug': 'ets_couv_dep', 'display_name': 'ETS Département', 'folder': False, 'color': 'b87528'}, {'id': 'def3b69b-d8d0-448d-a1dc-8859065c07f6', 'slug': 'ets_couv_arr', 'display_name': 'ETS Arrondissement', 'folder': False, 'color': 'af56c8'}, {'id': 'f1014a4f-f0ac-42ae-87f8-27957e0b55f4', 'slug': 'ets_couv_canton', 'display_name': 'ETS Canton', 'folder': False, 'color': 'b6b828'}, {'id': '0814b960-1880-47d9-9520-87d168b8e352', 'slug': 'ets_couv_commune', 'display_name': 'ETS Commune', 'folder': False, 'color': '53a6ac'}, {'id': '135b8e4b-8cb4-49d3-a4a3-7db2328b59b5', 'slug': 'ets_couv_date', 'display_name': 'ETS Date', 'folder': False, 'color': 'f03c28'}], 'top_level_type': None, 'created': '2023-09-14T12:50:39.177637Z', 'authorized_users': 3, 'indexable': False, 'maximum_task_ttl': 3600}\n",
            "{\n",
            "  \"id\": \"59285827-bba3-42d4-99c7-e2436fe19f94\",\n",
            "  \"name\": \"EPITA-IGN | Registre Napol\\u00e9onien\",\n",
            "  \"description\": \"Projet de Solenn\",\n",
            "  \"public\": false,\n",
            "  \"rights\": [\n",
            "    \"read\",\n",
            "    \"write\",\n",
            "    \"admin\"\n",
            "  ],\n",
            "  \"types\": [\n",
            "    {\n",
            "      \"id\": \"a2718e04-c140-47c2-886d-42cf5757bf04\",\n",
            "      \"slug\": \"page\",\n",
            "      \"display_name\": \"Page\",\n",
            "      \"folder\": false,\n",
            "      \"color\": \"b828b3\"\n",
            "    },\n",
            "    {\n",
            "      \"id\": \"fede5d95-e562-4f33-97e2-1fe18d20e2f1\",\n",
            "      \"slug\": \"text_line\",\n",
            "      \"display_name\": \"Text line\",\n",
            "      \"folder\": false,\n",
            "      \"color\": \"f4f740\"\n",
            "    },\n",
            "    {\n",
            "      \"id\": \"8e98a93d-992c-4a32-a6da-2bd17abcb3a4\",\n",
            "      \"slug\": \"text_zone\",\n",
            "      \"display_name\": \"Text zone\",\n",
            "      \"folder\": false,\n",
            "      \"color\": \"0ac4be\"\n",
            "    },\n",
            "    {\n",
            "      \"id\": \"151d522f-09cf-4a6e-9874-d39f31b4512f\",\n",
            "      \"slug\": \"double_page\",\n",
            "      \"display_name\": \"Double page\",\n",
            "      \"folder\": false,\n",
            "      \"color\": \"b8284c\"\n",
            "    },\n",
            "    {\n",
            "      \"id\": \"064c8649-08ce-4c59-b60b-ffa8a7802376\",\n",
            "      \"slug\": \"folder\",\n",
            "      \"display_name\": \"Folder\",\n",
            "      \"folder\": true,\n",
            "      \"color\": \"f5fff5\"\n",
            "    },\n",
            "    {\n",
            "      \"id\": \"3da0de23-ea2d-48b7-9f6f-4b9120b7c911\",\n",
            "      \"slug\": \"tab_header\",\n",
            "      \"display_name\": \"Table Header\",\n",
            "      \"folder\": false,\n",
            "      \"color\": \"233990\"\n",
            "    },\n",
            "    {\n",
            "      \"id\": \"e3631753-20ad-499a-95ed-9d5ffe35a105\",\n",
            "      \"slug\": \"paragraph\",\n",
            "      \"display_name\": \"Paragraph\",\n",
            "      \"folder\": false,\n",
            "      \"color\": \"ecbc0e\"\n",
            "    },\n",
            "    {\n",
            "      \"id\": \"7dc00c02-f179-4c33-b201-6403c4c91ac3\",\n",
            "      \"slug\": \"tab_line\",\n",
            "      \"display_name\": \"Table Line\",\n",
            "      \"folder\": false,\n",
            "      \"color\": \"11c517\"\n",
            "    },\n",
            "    {\n",
            "      \"id\": \"676f15a2-c550-495c-ac1c-dfcf45720d90\",\n",
            "      \"slug\": \"page_marolles\",\n",
            "      \"display_name\": \"Page Marolles\",\n",
            "      \"folder\": false,\n",
            "      \"color\": \"a028b8\"\n",
            "    },\n",
            "    {\n",
            "      \"id\": \"6c127d43-a3c5-4b36-810a-c5875f642f20\",\n",
            "      \"slug\": \"tab_header_marolles\",\n",
            "      \"display_name\": \"Table Header Marolles\",\n",
            "      \"folder\": false,\n",
            "      \"color\": \"3228b8\"\n",
            "    },\n",
            "    {\n",
            "      \"id\": \"97a2117b-f7e4-40f6-9d61-ecb3aebf2f2e\",\n",
            "      \"slug\": \"tab_line_marolles\",\n",
            "      \"display_name\": \"Table Line Marolles\",\n",
            "      \"folder\": false,\n",
            "      \"color\": \"28b62c\"\n",
            "    },\n",
            "    {\n",
            "      \"id\": \"ea647bff-e18c-4b17-b05f-c276d2294b05\",\n",
            "      \"slug\": \"ets_couv_modele\",\n",
            "      \"display_name\": \"ETS Mod\\u00e8le\",\n",
            "      \"folder\": false,\n",
            "      \"color\": \"ec5f6d\"\n",
            "    },\n",
            "    {\n",
            "      \"id\": \"a9e51463-c155-479a-8f41-02fd662316c7\",\n",
            "      \"slug\": \"ets_couv_id\",\n",
            "      \"display_name\": \"ETS Identifiant\",\n",
            "      \"folder\": false,\n",
            "      \"color\": \"28b62c\"\n",
            "    },\n",
            "    {\n",
            "      \"id\": \"b68cb405-54b0-42df-9333-2f5aa84ffcaa\",\n",
            "      \"slug\": \"ets_couv_name\",\n",
            "      \"display_name\": \"ETS Nom\",\n",
            "      \"folder\": false,\n",
            "      \"color\": \"4497bb\"\n",
            "    },\n",
            "    {\n",
            "      \"id\": \"a2eb78b8-336c-4fe9-bf95-d7f716833aee\",\n",
            "      \"slug\": \"ets_couv_dep\",\n",
            "      \"display_name\": \"ETS D\\u00e9partement\",\n",
            "      \"folder\": false,\n",
            "      \"color\": \"b87528\"\n",
            "    },\n",
            "    {\n",
            "      \"id\": \"def3b69b-d8d0-448d-a1dc-8859065c07f6\",\n",
            "      \"slug\": \"ets_couv_arr\",\n",
            "      \"display_name\": \"ETS Arrondissement\",\n",
            "      \"folder\": false,\n",
            "      \"color\": \"af56c8\"\n",
            "    },\n",
            "    {\n",
            "      \"id\": \"f1014a4f-f0ac-42ae-87f8-27957e0b55f4\",\n",
            "      \"slug\": \"ets_couv_canton\",\n",
            "      \"display_name\": \"ETS Canton\",\n",
            "      \"folder\": false,\n",
            "      \"color\": \"b6b828\"\n",
            "    },\n",
            "    {\n",
            "      \"id\": \"0814b960-1880-47d9-9520-87d168b8e352\",\n",
            "      \"slug\": \"ets_couv_commune\",\n",
            "      \"display_name\": \"ETS Commune\",\n",
            "      \"folder\": false,\n",
            "      \"color\": \"53a6ac\"\n",
            "    },\n",
            "    {\n",
            "      \"id\": \"135b8e4b-8cb4-49d3-a4a3-7db2328b59b5\",\n",
            "      \"slug\": \"ets_couv_date\",\n",
            "      \"display_name\": \"ETS Date\",\n",
            "      \"folder\": false,\n",
            "      \"color\": \"f03c28\"\n",
            "    }\n",
            "  ],\n",
            "  \"top_level_type\": null,\n",
            "  \"created\": \"2023-09-14T12:50:39.177637Z\",\n",
            "  \"authorized_users\": 3,\n",
            "  \"indexable\": false,\n",
            "  \"maximum_task_ttl\": 3600\n",
            "}\n"
          ]
        }
      ]
    },
    {
      "cell_type": "code",
      "source": [
        "annotatedpages = cli.request('ListTranscriptions',id=\"0846dcd6-2a9f-40cb-89e5-ff261c59365d\",recursive=True,element_type=\"page\")\n",
        "annotatedpages[\"count\"]"
      ],
      "metadata": {
        "colab": {
          "base_uri": "https://localhost:8080/"
        },
        "id": "XIcsTH9a8ihC",
        "outputId": "b26bee31-fc97-4dc0-c044-72ff01eef8fa"
      },
      "execution_count": 9,
      "outputs": [
        {
          "output_type": "execute_result",
          "data": {
            "text/plain": [
              "143"
            ]
          },
          "metadata": {},
          "execution_count": 9
        }
      ]
    },
    {
      "cell_type": "code",
      "source": [
        "annotatedlines = cli.request('ListTranscriptions',id=\"0846dcd6-2a9f-40cb-89e5-ff261c59365d\",recursive=True,element_type=\"tab_line\")\n",
        "annotatedlines[\"count\"]"
      ],
      "metadata": {
        "colab": {
          "base_uri": "https://localhost:8080/"
        },
        "id": "SCiCnI0_88gc",
        "outputId": "dba3ad97-eb2b-41f5-dbdf-7e8509fe38f1"
      },
      "execution_count": 15,
      "outputs": [
        {
          "output_type": "execute_result",
          "data": {
            "text/plain": [
              "2649"
            ]
          },
          "metadata": {},
          "execution_count": 15
        }
      ]
    },
    {
      "cell_type": "code",
      "source": [
        "annotatedpages = cli.request('ListTranscriptions',id=\"23719392-b55c-497e-bd29-3c3aded6fd44\",recursive=True,element_type=\"page_marolles\")\n",
        "annotatedpages[\"count\"]"
      ],
      "metadata": {
        "colab": {
          "base_uri": "https://localhost:8080/"
        },
        "id": "eeL5IJc0rxsx",
        "outputId": "609b6d23-51c3-4e0f-bf71-030d7da92872"
      },
      "execution_count": 11,
      "outputs": [
        {
          "output_type": "execute_result",
          "data": {
            "text/plain": [
              "25"
            ]
          },
          "metadata": {},
          "execution_count": 11
        }
      ]
    },
    {
      "cell_type": "code",
      "source": [
        "annotatedlines = cli.request('ListTranscriptions',id=\"23719392-b55c-497e-bd29-3c3aded6fd44\",recursive=True,)\n",
        "annotatedlines[\"count\"]"
      ],
      "metadata": {
        "colab": {
          "base_uri": "https://localhost:8080/"
        },
        "id": "oJ5Shs7Srv9T",
        "outputId": "c2fc81f5-c242-4fff-cfa7-178afc5f47cc"
      },
      "execution_count": 14,
      "outputs": [
        {
          "output_type": "execute_result",
          "data": {
            "text/plain": [
              "521"
            ]
          },
          "metadata": {},
          "execution_count": 14
        }
      ]
    },
    {
      "cell_type": "code",
      "source": [
        "# @title Supprimer les transcriptions\n",
        "import time\n",
        "\n",
        "parent_element_id = \"23719392-b55c-497e-bd29-3c3aded6fd44\"\n",
        "\n",
        "#Delete transcription\n",
        "for i in range(35):\n",
        "  time.sleep(3)\n",
        "  tt = cli.request('ListTranscriptions',id=parent_element_id,recursive=True)\n",
        "  transcript = tt[\"results\"]\n",
        "  print(i*len(transcript))\n",
        "  for e in transcript:\n",
        "    id = e[\"id\"]\n",
        "    #cli.request('DestroyTranscription',id=id)"
      ],
      "metadata": {
        "id": "bYZ_2O_dkAud"
      },
      "execution_count": null,
      "outputs": []
    }
  ]
}
